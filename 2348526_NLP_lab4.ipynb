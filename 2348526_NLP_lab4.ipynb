{
  "nbformat": 4,
  "nbformat_minor": 0,
  "metadata": {
    "colab": {
      "provenance": []
    },
    "kernelspec": {
      "name": "python3",
      "display_name": "Python 3"
    },
    "language_info": {
      "name": "python"
    }
  },
  "cells": [
    {
      "cell_type": "code",
      "execution_count": 1,
      "metadata": {
        "colab": {
          "base_uri": "https://localhost:8080/"
        },
        "id": "VjMGHeitZNaU",
        "outputId": "a2fbf600-5ecb-4261-d7f3-38d3369ecc2b"
      },
      "outputs": [
        {
          "output_type": "stream",
          "name": "stdout",
          "text": [
            "Requirement already satisfied: nltk in /usr/local/lib/python3.10/dist-packages (3.8.1)\n",
            "Requirement already satisfied: click in /usr/local/lib/python3.10/dist-packages (from nltk) (8.1.7)\n",
            "Requirement already satisfied: joblib in /usr/local/lib/python3.10/dist-packages (from nltk) (1.3.2)\n",
            "Requirement already satisfied: regex>=2021.8.3 in /usr/local/lib/python3.10/dist-packages (from nltk) (2023.12.25)\n",
            "Requirement already satisfied: tqdm in /usr/local/lib/python3.10/dist-packages (from nltk) (4.66.2)\n"
          ]
        }
      ],
      "source": [
        "!pip install nltk\n"
      ]
    },
    {
      "cell_type": "code",
      "source": [
        "import nltk\n",
        "nltk.download('wordnet')\n"
      ],
      "metadata": {
        "colab": {
          "base_uri": "https://localhost:8080/"
        },
        "id": "019_WW5WZUwp",
        "outputId": "88ffb30e-3b16-49b1-8efc-67ae31e39982"
      },
      "execution_count": 2,
      "outputs": [
        {
          "output_type": "stream",
          "name": "stderr",
          "text": [
            "[nltk_data] Downloading package wordnet to /root/nltk_data...\n"
          ]
        },
        {
          "output_type": "execute_result",
          "data": {
            "text/plain": [
              "True"
            ]
          },
          "metadata": {},
          "execution_count": 2
        }
      ]
    },
    {
      "cell_type": "markdown",
      "source": [
        "WordNet organizes words into sets of synonyms called synsets, where each synset represents a distinct concept or meaning and contains a set of words (lemmas) that are synonymous or closely related in meaning. These synsets are interconnected through various semantic relationships such as hypernyms (more general terms), hyponyms (more specific terms), meronyms (part-whole relationships), and others.The primary goal of WordNet is to capture the meanings and relationships between words in a way that reflects human understanding of the language."
      ],
      "metadata": {
        "id": "CABgj0S6at-z"
      }
    },
    {
      "cell_type": "code",
      "source": [
        "from nltk.corpus import wordnet\n",
        "\n",
        "def get_word_info(word):\n",
        "    # Get synsets (sets of synonyms) for the word\n",
        "    synsets = wordnet.synsets(word)\n",
        "\n",
        "    # Find the 3rd meaning of the word\n",
        "    if len(synsets) >= 3:\n",
        "        third_meaning = synsets[2].definition()\n",
        "    else:\n",
        "        third_meaning = \"No third meaning found\"\n",
        "\n",
        "    # Extract nouns, verbs, adjectives, adverbs from synsets\n",
        "    nouns = set()\n",
        "    verbs = set()\n",
        "    adjectives = set()\n",
        "    adverbs = set()\n",
        "\n",
        "    for synset in synsets:\n",
        "        for lemma in synset.lemmas():\n",
        "            name = lemma.name()\n",
        "            if synset.pos() == 'n':\n",
        "                nouns.add(name)\n",
        "            elif synset.pos() == 'v':\n",
        "                verbs.add(name)\n",
        "            elif synset.pos() == 'a':\n",
        "                adjectives.add(name)\n",
        "            elif synset.pos() == 'r':\n",
        "                adverbs.add(name)\n",
        "\n",
        "    # Extract definitions\n",
        "    definitions = [syn.definition() for syn in synsets]\n",
        "\n",
        "    # Find hypernyms and hyponyms\n",
        "    hypernyms = [syn.hypernyms() for syn in synsets]\n",
        "    hyponyms = [syn.hyponyms() for syn in synsets]\n",
        "\n",
        "    # Find similarities of any two hyponyms\n",
        "    hyponym_similarities = []\n",
        "    for hyponym_set in hyponyms:\n",
        "        if len(hyponym_set) >= 2:\n",
        "            sim = hyponym_set[0].path_similarity(hyponym_set[1])\n",
        "            hyponym_similarities.append(sim)\n",
        "        else:\n",
        "            hyponym_similarities.append(\"Insufficient hyponyms\")\n",
        "\n",
        "    return {\n",
        "        'third_meaning': third_meaning,\n",
        "        'nouns': nouns,\n",
        "        'verbs': verbs,\n",
        "        'adjectives': adjectives,\n",
        "        'adverbs': adverbs,\n",
        "        'definitions': definitions,\n",
        "        'hypernyms': hypernyms,\n",
        "        'hyponyms': hyponyms,\n",
        "        'hyponym_similarities': hyponym_similarities\n",
        "    }\n",
        "\n",
        "word_info = get_word_info(\"bear\")\n",
        "\n",
        "print(\"Third Meaning:\", word_info['third_meaning'])\n",
        "print(\"Nouns:\", word_info['nouns'])\n",
        "print(\"Verbs:\", word_info['verbs'])\n",
        "print(\"Adjectives:\", word_info['adjectives'])\n",
        "print(\"Adverbs:\", word_info['adverbs'])\n",
        "print(\"Definitions:\", word_info['definitions'])\n",
        "print(\"Hypernyms:\", word_info['hypernyms'])\n",
        "print(\"Hyponyms:\", word_info['hyponyms'])\n",
        "print(\"Hyponym Similarities:\", word_info['hyponym_similarities'])\n"
      ],
      "metadata": {
        "colab": {
          "base_uri": "https://localhost:8080/"
        },
        "id": "Nd4t81lMZcCV",
        "outputId": "b68b1ccc-df47-499a-bd2c-80b8927648d8"
      },
      "execution_count": 4,
      "outputs": [
        {
          "output_type": "stream",
          "name": "stdout",
          "text": [
            "Third Meaning: have\n",
            "Nouns: {'bear'}\n",
            "Verbs: {'expect', 'stand', 'suffer', 'assume', 'digest', 'wear', 'comport', 'take_over', 'deliver', 'conduct', 'contain', 'give_birth', 'gestate', 'abide', 'behave', 'support', 'have_a_bun_in_the_oven', 'have', 'brook', 'stick_out', 'carry', 'stomach', 'accept', 'pay', 'birth', 'yield', 'deport', 'hold', 'endure', 'bear', 'turn_out', 'tolerate', 'put_up', 'acquit'}\n",
            "Adjectives: set()\n",
            "Adverbs: set()\n",
            "Definitions: ['massive plantigrade carnivorous or omnivorous mammals with long shaggy coats and strong claws', 'an investor with a pessimistic market outlook; an investor who expects prices to fall and so sells now in order to buy later at a lower price', 'have', 'cause to be born', 'put up with something or somebody unpleasant', 'move while holding up or supporting', 'bring forth,', \"take on as one's own the expenses or debts of another person\", 'contain or hold; have within', 'bring in', \"have on one's person\", 'behave in a certain manner', 'have rightfully; of rights, titles, and offices', 'support or hold in a certain manner', 'be pregnant with']\n",
            "Hypernyms: [[Synset('carnivore.n.01')], [Synset('investor.n.01')], [Synset('have.v.02')], [Synset('produce.v.01')], [Synset('permit.v.01')], [Synset('transport.v.02')], [Synset('make.v.03')], [Synset('take.v.08')], [Synset('include.v.01')], [Synset('gain.v.08')], [Synset('have.v.02')], [Synset('act.v.01'), Synset('hold.v.14')], [Synset('have.v.01')], [], [Synset('give_birth.v.01')]]\n",
            "Hyponyms: [[Synset('american_black_bear.n.01'), Synset('asiatic_black_bear.n.01'), Synset('bear_cub.n.01'), Synset('brown_bear.n.01'), Synset('bruin.n.01'), Synset('ice_bear.n.01'), Synset('sloth_bear.n.01')], [], [Synset('carry.v.26')], [Synset('calve.v.02'), Synset('cub.v.01'), Synset('drop.v.23'), Synset('farrow.v.01'), Synset('fawn.v.03'), Synset('foal.v.01'), Synset('have_a_bun_in_the_oven.v.01'), Synset('kitten.v.01'), Synset('lamb.v.01'), Synset('litter.v.03'), Synset('twin.v.04'), Synset('whelp.v.01')], [Synset('accept.v.07'), Synset('bear_up.v.01'), Synset('pay.v.09'), Synset('sit_out.v.02'), Synset('stand_for.v.04'), Synset('take_a_joke.v.01'), Synset('take_lying_down.v.01')], [Synset('frogmarch.v.02')], [Synset('crop.v.03'), Synset('fruit.v.02'), Synset('overbear.v.02'), Synset('seed.v.03'), Synset('spin_off.v.01')], [Synset('face_the_music.v.01')], [Synset('enclose.v.02'), Synset('retain.v.01')], [Synset('net.v.02'), Synset('pay_off.v.01')], [], [Synset('assert.v.03'), Synset('deal.v.08'), Synset('fluster.v.01'), Synset('pose.v.04'), Synset('walk_around.v.03')], [], [Synset('behave.v.02'), Synset('piggyback.v.04'), Synset('poise.v.04'), Synset('sling.v.04'), Synset('stoop.v.05')], []]\n",
            "Hyponym Similarities: [0.3333333333333333, 'Insufficient hyponyms', 'Insufficient hyponyms', 0.3333333333333333, 0.3333333333333333, 'Insufficient hyponyms', 0.3333333333333333, 'Insufficient hyponyms', 0.3333333333333333, 0.3333333333333333, 'Insufficient hyponyms', 0.3333333333333333, 'Insufficient hyponyms', 0.3333333333333333, 'Insufficient hyponyms']\n"
          ]
        }
      ]
    }
  ]
}