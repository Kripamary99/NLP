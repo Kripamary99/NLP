{
  "nbformat": 4,
  "nbformat_minor": 0,
  "metadata": {
    "colab": {
      "provenance": []
    },
    "kernelspec": {
      "name": "python3",
      "display_name": "Python 3"
    },
    "language_info": {
      "name": "python"
    }
  },
  "cells": [
    {
      "cell_type": "code",
      "source": [
        "import nltk\n",
        "nltk.download('punkt')"
      ],
      "metadata": {
        "colab": {
          "base_uri": "https://localhost:8080/"
        },
        "id": "gaeuf5wOoT1x",
        "outputId": "382ba911-f12e-485d-c92d-285c5087c21a"
      },
      "execution_count": 50,
      "outputs": [
        {
          "output_type": "stream",
          "name": "stderr",
          "text": [
            "[nltk_data] Downloading package punkt to /root/nltk_data...\n",
            "[nltk_data]   Package punkt is already up-to-date!\n"
          ]
        },
        {
          "output_type": "execute_result",
          "data": {
            "text/plain": [
              "True"
            ]
          },
          "metadata": {},
          "execution_count": 50
        }
      ]
    },
    {
      "cell_type": "code",
      "execution_count": 51,
      "metadata": {
        "colab": {
          "base_uri": "https://localhost:8080/"
        },
        "id": "GmLo6T0GGHcw",
        "outputId": "9ddf5386-e9e9-4c95-c140-7e3a0bf8b03c"
      },
      "outputs": [
        {
          "output_type": "stream",
          "name": "stdout",
          "text": [
            "As a language model developed by OpenAI, I am fascinated by the intricacies of natural language processing and artificial intelligence. In this digital era, the use of special characters such as @, #, and $ has become ubiquitous, adding layers of meaning and functionality to written communication. Punctuations like commas, periods, and question marks serve as the syntax that structures our thoughts, while stop words like the, is, and and provide the connective tissue that binds our sentences together. Despite the common refrain of don't, advancements in AI continue to push boundaries and unlock new possibilities. If you have any inquiries or wish to discuss further, feel free to reach out to me via email at chatgpt@openai.com or give me a call at +91989898767. Additionally, my date of birth is 27-March-2000.\n"
          ]
        }
      ],
      "source": [
        "text=\"As a language model developed by OpenAI, I am fascinated by the intricacies of natural language processing and artificial intelligence. In this digital era, the use of special characters such as @, #, and $ has become ubiquitous, adding layers of meaning and functionality to written communication. Punctuations like commas, periods, and question marks serve as the syntax that structures our thoughts, while stop words like the, is, and and provide the connective tissue that binds our sentences together. Despite the common refrain of don't, advancements in AI continue to push boundaries and unlock new possibilities. If you have any inquiries or wish to discuss further, feel free to reach out to me via email at chatgpt@openai.com or give me a call at +91989898767. Additionally, my date of birth is 27-March-2000.\"\n",
        "print(text)"
      ]
    },
    {
      "cell_type": "markdown",
      "source": [
        "Unique tokens:\n",
        "\n",
        " The text is tokenized into individual words using the word_tokenize function from the nltk.tokenize module. Then, the FreqDist class from the nltk.probability module is used to compute the frequency distribution of tokens, representing how often each token appears in the text. The number of unique tokens in the text is determined using the N() method of the FreqDist object. Finally, the number of unique tokens is printed to the console."
      ],
      "metadata": {
        "id": "R1WW1UCcpNMx"
      }
    },
    {
      "cell_type": "code",
      "source": [
        "from nltk.tokenize import word_tokenize\n",
        "from nltk.probability import FreqDist\n",
        "tokens=word_tokenize(text)\n",
        "freq=FreqDist(tokens)\n",
        "unique=freq.N()\n",
        "print(\"Unique tokens: \",unique)"
      ],
      "metadata": {
        "colab": {
          "base_uri": "https://localhost:8080/"
        },
        "id": "DUnwbSPBHbdA",
        "outputId": "064fdbcf-e904-4c20-8810-d306126086c4"
      },
      "execution_count": 52,
      "outputs": [
        {
          "output_type": "stream",
          "name": "stdout",
          "text": [
            "Unique tokens:  153\n"
          ]
        }
      ]
    },
    {
      "cell_type": "markdown",
      "source": [
        "Without punctuations:\n",
        "\n",
        "The below code preprocessing textual data in natural language processing tasks, where removing punctuation characters may be necessary to simplify the text and focus on the content of the text itself. It is commonly used in tasks such as text classification, sentiment analysis, and language modeling to improve the quality of text representations and downstream analyses."
      ],
      "metadata": {
        "id": "O1aZORLKpO8j"
      }
    },
    {
      "cell_type": "code",
      "source": [
        "import string\n",
        "punctuation = [token for token in tokens if token in string.punctuation]\n",
        "normal_tokens = [token for token in tokens if token not in string.punctuation]\n",
        "punctuation_count = len(punctuation)\n",
        "text_without_punctuation = \" \".join(normal_tokens)\n",
        "print(\"Number of punctuation characters:\", punctuation_count)\n",
        "print(\"Text without punctuation:\", text_without_punctuation)"
      ],
      "metadata": {
        "colab": {
          "base_uri": "https://localhost:8080/"
        },
        "id": "mM9dSoCnNcud",
        "outputId": "0565366e-b484-41dd-f387-508bcf971a06"
      },
      "execution_count": 53,
      "outputs": [
        {
          "output_type": "stream",
          "name": "stdout",
          "text": [
            "Number of punctuation characters: 23\n",
            "Text without punctuation: As a language model developed by OpenAI I am fascinated by the intricacies of natural language processing and artificial intelligence In this digital era the use of special characters such as and has become ubiquitous adding layers of meaning and functionality to written communication Punctuations like commas periods and question marks serve as the syntax that structures our thoughts while stop words like the is and and provide the connective tissue that binds our sentences together Despite the common refrain of do n't advancements in AI continue to push boundaries and unlock new possibilities If you have any inquiries or wish to discuss further feel free to reach out to me via email at chatgpt openai.com or give me a call at +91989898767 Additionally my date of birth is 27-March-2000\n"
          ]
        }
      ]
    },
    {
      "cell_type": "markdown",
      "source": [
        "Plotting stopwords\n",
        "\n",
        "The code removes the  stopwords for improving the quality of text representations and downstream analyses. Stopwords are common words in a language (e.g., \"the\", \"is\", \"and\") that do not carry significant semantic meaning and are typically filtered out to focus on the content-bearing words in the text. The visualization provided by the bar plot helps in understanding the distribution of non-stopword tokens in the text."
      ],
      "metadata": {
        "id": "65K0_-SFqkgw"
      }
    },
    {
      "cell_type": "code",
      "source": [
        "nltk.download('stopwords')\n",
        "from nltk.corpus import stopwords\n",
        "import matplotlib.pyplot as plt\n",
        "stop_words = stopwords.words('english')\n",
        "filtered_tokens = [token for token in tokens if token not in stop_words]\n",
        "stopword_counts = {}\n",
        "for token in filtered_tokens:\n",
        "    if token in stopword_counts:\n",
        "        stopword_counts[token] += 1\n",
        "    else:\n",
        "        stopword_counts[token] = 1\n",
        "stopwords = list(stopword_counts.keys())\n",
        "counts = list(stopword_counts.values())\n",
        "plt.bar(stopwords, counts)\n",
        "plt.figure(figsize=(60,20))\n",
        "plt.show()\n",
        "text_without_stopwords = \" \".join(filtered_tokens)\n",
        "print(\"Text without stopwords:\", text_without_stopwords)"
      ],
      "metadata": {
        "colab": {
          "base_uri": "https://localhost:8080/",
          "height": 499
        },
        "id": "Wq4449tmpR1B",
        "outputId": "afeca8e9-26d5-40e5-81e0-eaff7b9fe60f"
      },
      "execution_count": 70,
      "outputs": [
        {
          "output_type": "stream",
          "name": "stderr",
          "text": [
            "[nltk_data] Downloading package stopwords to /root/nltk_data...\n",
            "[nltk_data]   Package stopwords is already up-to-date!\n"
          ]
        },
        {
          "output_type": "display_data",
          "data": {
            "text/plain": [
              "<Figure size 640x480 with 1 Axes>"
            ],
            "image/png": "[encoded data removed]"
          },
          "metadata": {}
        },
        {
          "output_type": "display_data",
          "data": {
            "text/plain": [
              "<Figure size 6000x2000 with 0 Axes>"
            ]
          },
          "metadata": {}
        },
        {
          "output_type": "stream",
          "name": "stdout",
          "text": [
            "Text without stopwords: language like\n"
          ]
        }
      ]
    },
    {
      "cell_type": "markdown",
      "source": [
        "Distribution of POS\n",
        "\n",
        "The below code analyzes the distribution of POS tags in a text, which can provide insights into the syntactic structure and linguistic patterns of the text. POS tagging is a fundamental task in natural language processing that assigns a grammatical category to each word in a text, such as noun, verb, adjective, etc.\n",
        "\n",
        "POS stands for Part-of-Speech refers to the grammatical category or syntactic role that a word plays within a sentence."
      ],
      "metadata": {
        "id": "c6pdP3eXr4X1"
      }
    },
    {
      "cell_type": "code",
      "source": [
        "import nltk\n",
        "nltk.download('averaged_perceptron_tagger')\n",
        "from nltk.corpus import brown\n",
        "from nltk.tag import pos_tag\n",
        "tagged_tokens = pos_tag(tokens)\n",
        "pos_tags = [tag for word, tag in tagged_tokens]\n",
        "pos_tag_counts = {}\n",
        "for tag in pos_tags:\n",
        "    pos_tag_counts[tag] = pos_tag_counts.get(tag, 0) + 1\n",
        "pos_tags, counts = zip(*pos_tag_counts.items())\n",
        "plt.bar(pos_tags, counts)\n",
        "plt.title(\"Distribution of POS Tags in the Text\")\n",
        "plt.figure(figsize=(60,40))\n",
        "plt.show()"
      ],
      "metadata": {
        "colab": {
          "base_uri": "https://localhost:8080/",
          "height": 539
        },
        "id": "E_un8pp-qm5W",
        "outputId": "39e65ad6-31b4-4f16-efce-69a94d698337"
      },
      "execution_count": 69,
      "outputs": [
        {
          "output_type": "stream",
          "name": "stderr",
          "text": [
            "[nltk_data] Downloading package averaged_perceptron_tagger to\n",
            "[nltk_data]     /root/nltk_data...\n",
            "[nltk_data]   Package averaged_perceptron_tagger is already up-to-\n",
            "[nltk_data]       date!\n"
          ]
        },
        {
          "output_type": "display_data",
          "data": {
            "text/plain": [
              "<Figure size 640x480 with 1 Axes>"
            ],
            "image/png": "[encoded data removed]"
          },
          "metadata": {}
        },
        {
          "output_type": "display_data",
          "data": {
            "text/plain": [
              "<Figure size 6000x4000 with 0 Axes>"
            ]
          },
          "metadata": {}
        }
      ]
    },
    {
      "cell_type": "markdown",
      "source": [
        "Lemma\n",
        "\n",
        "The code iterates through each token in the list of tokens and applies lemmatization using the lemmatize method of the WordNetLemmatizer."
      ],
      "metadata": {
        "id": "6QTP4l9RsPzZ"
      }
    },
    {
      "cell_type": "code",
      "source": [
        "import nltk\n",
        "nltk.download('wordnet')\n",
        "from nltk.stem import WordNetLemmatizer\n",
        "lemmatizer = WordNetLemmatizer()\n",
        "unique_lemmas = set([lemmatizer.lemmatize(token) for token in tokens])\n",
        "print(\"Number of unique lemmas:\", len(unique_lemmas))"
      ],
      "metadata": {
        "colab": {
          "base_uri": "https://localhost:8080/"
        },
        "id": "L8tV6gm0r_WG",
        "outputId": "c92d1cb6-986a-4288-9d45-e5b6c572d827"
      },
      "execution_count": 56,
      "outputs": [
        {
          "output_type": "stream",
          "name": "stdout",
          "text": [
            "Number of unique lemmas: 104\n"
          ]
        },
        {
          "output_type": "stream",
          "name": "stderr",
          "text": [
            "[nltk_data] Downloading package wordnet to /root/nltk_data...\n",
            "[nltk_data]   Package wordnet is already up-to-date!\n"
          ]
        }
      ]
    },
    {
      "cell_type": "markdown",
      "source": [
        "frequency distribution of words in the text"
      ],
      "metadata": {
        "id": "7S6oeLyFJyIR"
      }
    },
    {
      "cell_type": "code",
      "source": [
        "\n",
        "tokens = [token for token in tokens if token.isalpha()]\n",
        "freq_dist = FreqDist(tokens)\n",
        "print(freq_dist)\n",
        "top_tokens = freq_dist.most_common(10)\n"
      ],
      "metadata": {
        "id": "ck4t1SIAsdPW",
        "colab": {
          "base_uri": "https://localhost:8080/"
        },
        "outputId": "2cfca328-f8b6-4907-8451-222fc38cf931"
      },
      "execution_count": 57,
      "outputs": [
        {
          "output_type": "stream",
          "name": "stdout",
          "text": [
            "<FreqDist with 96 samples and 126 outcomes>\n"
          ]
        }
      ]
    },
    {
      "cell_type": "markdown",
      "source": [
        "the top 10 tokens in the chart"
      ],
      "metadata": {
        "id": "BdowlEDXJ4Ds"
      }
    },
    {
      "cell_type": "code",
      "source": [
        "tokens = [token for token, freq in top_tokens]\n",
        "frequencies = [freq for token, freq in top_tokens]\n",
        "\n",
        "plt.figure(figsize=(10, 5))\n",
        "plt.bar(tokens, frequencies, color='skyblue')\n",
        "plt.title('Top 10 Most Common Tokens')\n",
        "plt.xlabel('Token')\n",
        "plt.ylabel('Frequency')\n",
        "plt.xticks(rotation=45)\n",
        "plt.show()"
      ],
      "metadata": {
        "colab": {
          "base_uri": "https://localhost:8080/",
          "height": 529
        },
        "id": "JvzYwqQwgor0",
        "outputId": "3769f723-697e-431a-d9fe-054ecc39063b"
      },
      "execution_count": 58,
      "outputs": [
        {
          "output_type": "display_data",
          "data": {
            "text/plain": [
              "<Figure size 1000x500 with 1 Axes>"
            ],
            "image/png": "[encoded data removed]"
          },
          "metadata": {}
        }
      ]
    },
    {
      "cell_type": "markdown",
      "source": [
        "unique bigrams, trigrams and quadgrams\n",
        "\n",
        "Bigrams are sequences of two consecutive words in a text. For example, in the sentence \"The quick brown fox jumps,\" the bigrams woul\n",
        "d be \"The quick,\" \"quick brown,\" \"brown fox,\" and \"fox jumps.\n",
        "\n",
        "Trigrams are sequences of three consecutive words in a text. For example, in the same sentence \"The quick brown fox jumps,\" the trigrams would be \"The quick brown,\" \"quick brown fox,\" and \"brown fox jumps.\"\n",
        "\n",
        "Quadgrams are sequences of four consecutive words in a text. For example, in the sentence \"The quick brown fox jumps,\" the only quadgram would be \"The quick brown fox.\""
      ],
      "metadata": {
        "id": "SvueInT7J6gr"
      }
    },
    {
      "cell_type": "code",
      "source": [
        "from nltk import ngrams\n",
        "bigrams = list(ngrams(tokens, 2))\n",
        "trigrams = list(ngrams(tokens, 3))\n",
        "quadgrams = list(ngrams(tokens, 4))\n",
        "\n",
        "\n",
        "unique_bigrams = set(bigrams)\n",
        "unique_trigrams = set(trigrams)\n",
        "unique_quadgrams = set(quadgrams)\n",
        "\n",
        "num_unique_bigrams = len(unique_bigrams)\n",
        "num_unique_trigrams = len(unique_trigrams)\n",
        "num_unique_quadgrams = len(unique_quadgrams)\n",
        "\n",
        "print(\"Number of unique bigrams:\", num_unique_bigrams)\n",
        "print(\"Number of unique trigrams:\", num_unique_trigrams)\n",
        "print(\"Number of unique quadgrams:\", num_unique_quadgrams)\n"
      ],
      "metadata": {
        "colab": {
          "base_uri": "https://localhost:8080/"
        },
        "id": "i8uomKJc8Pz4",
        "outputId": "0554e8fd-d62a-4360-e9df-4893e94074d5"
      },
      "execution_count": 59,
      "outputs": [
        {
          "output_type": "stream",
          "name": "stdout",
          "text": [
            "Number of unique bigrams: 9\n",
            "Number of unique trigrams: 8\n",
            "Number of unique quadgrams: 7\n"
          ]
        }
      ]
    },
    {
      "cell_type": "markdown",
      "source": [
        "converting dates to DD-MM-YYYY format:\n",
        "\n",
        "It defines a regular expression pattern date_pattern to match dates in the format \"DD-Month-YYYY\""
      ],
      "metadata": {
        "id": "XKlOWfdwKVJy"
      }
    },
    {
      "cell_type": "code",
      "source": [
        "import re\n",
        "\n",
        "\n",
        "date_pattern = r'\\b\\d{1,2}-(?:Jan(?:uary)?|Feb(?:ruary)?|Mar(?:ch)?|Apr(?:il)?|May|Jun(?:e)?|Jul(?:y)?|Aug(?:ust)?|Sep(?:tember)?|Oct(?:ober)?|Nov(?:ember)?|Dec(?:ember)?)-\\d{4}\\b'\n",
        "\n",
        "dates = re.findall(date_pattern, text)\n",
        "\n",
        "\n",
        "def convert_to_dd_mm_yyyy(date):\n",
        "\n",
        "    day, month, year = date.split('-')\n",
        "\n",
        "    month_number = {\n",
        "        'Jan': '01', 'Feb': '02', 'Mar': '03', 'Apr': '04', 'May': '05', 'Jun': '06',\n",
        "        'Jul': '07', 'Aug': '08', 'Sep': '09', 'Oct': '10', 'Nov': '11', 'Dec': '12'\n",
        "    }\n",
        "\n",
        "    return f\"{day.zfill(2)}-{month_number[month[:3]]}-{year}\"\n",
        "\n",
        "converted_dates = [convert_to_dd_mm_yyyy(date) for date in dates]\n",
        "\n",
        "print(\"Converted dates:\", converted_dates)\n"
      ],
      "metadata": {
        "colab": {
          "base_uri": "https://localhost:8080/"
        },
        "id": "PQeGL04_gdLh",
        "outputId": "65997d05-bb16-44f7-df04-888c50f489d2"
      },
      "execution_count": 60,
      "outputs": [
        {
          "output_type": "stream",
          "name": "stdout",
          "text": [
            "Converted dates: ['27-03-2000']\n"
          ]
        }
      ]
    },
    {
      "cell_type": "markdown",
      "source": [
        "distribution of the different values of year:\n",
        "\n",
        "It uses the re.findall() function with a regular expression pattern r\"\\b\\d{4}\\b\" to find all occurrences of four-digit numbers  surrounded by word boundaries in the text."
      ],
      "metadata": {
        "id": "zmnMPuYwKe9M"
      }
    },
    {
      "cell_type": "code",
      "source": [
        "\n",
        "years = re.findall(r\"\\b\\d{4}\\b\", text)\n",
        "\n",
        "if years:\n",
        "    year_counts = {}\n",
        "    for year in years:\n",
        "        year_counts[year] = year_counts.get(year, 0) + 1\n",
        "    plt.bar(year_counts.keys(), year_counts.values())\n",
        "    plt.xlabel(\"Year\")\n",
        "    plt.ylabel(\"Frequency\")\n",
        "    plt.title(\"Distribution of Years in the Text\")\n",
        "    plt.show()\n"
      ],
      "metadata": {
        "colab": {
          "base_uri": "https://localhost:8080/",
          "height": 472
        },
        "id": "4Tyiv84H-6v4",
        "outputId": "cde9522b-1bf5-40ad-84fe-73e7f088ba16"
      },
      "execution_count": 61,
      "outputs": [
        {
          "output_type": "display_data",
          "data": {
            "text/plain": [
              "<Figure size 640x480 with 1 Axes>"
            ],
            "image/png": "[encoded data removed]"
          },
          "metadata": {}
        }
      ]
    },
    {
      "cell_type": "markdown",
      "source": [
        "checking if any any phone numbers are there in the text:\n",
        "\n",
        " It utilizes the re.findall() function with a regular expression pattern r\"\\b[\\d()+\\- ]{10,}\\b\". This pattern matches sequences of digits, parentheses, plus signs, hyphens, and spaces that are at least 10 characters long."
      ],
      "metadata": {
        "id": "r7FvJp2yKtNB"
      }
    },
    {
      "cell_type": "code",
      "source": [
        "potential_numbers = re.findall(r\"\\b[\\d()+\\- ]{10,}\\b\", text)\n",
        "\n",
        "if not potential_numbers:\n",
        "    print(\"No phone numbers found in the text.\")\n",
        "else:\n",
        "    print(\"Found potential phone numbers:\")\n",
        "    for number in potential_numbers:\n",
        "        print(number)"
      ],
      "metadata": {
        "colab": {
          "base_uri": "https://localhost:8080/"
        },
        "id": "hQDluyBpFnqn",
        "outputId": "ac912b0d-abdd-41b7-d58e-f70a04498963"
      },
      "execution_count": 68,
      "outputs": [
        {
          "output_type": "stream",
          "name": "stdout",
          "text": [
            "Found potential phone numbers:\n",
            " 91989898767\n"
          ]
        }
      ]
    }
  ]
}